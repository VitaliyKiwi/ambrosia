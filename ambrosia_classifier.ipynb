#from utils import *
from fastai.vision.all import *
from fastai.vision.widgets import *

model_path = Path()
#model_path.ls(file_exts='.pkl')

learn_inf = load_learner(model_path/'export.pkl')

#learn_inf.dls.vocab

def on_click_classify(change):
    lbl_pred.value = 'Wait ah, on the way on the way...'
    img = PILImage.create(btn_upload.data[-1])
    out_pl.clear_output()
    with out_pl: display(img.to_thumb(128,128))
    pred,pred_idx,probs = learn_inf.predict(img)
    lbl_pred.value = f'Prediction: {pred}; Probability: {probs[pred_idx]:.04f}'

btn_upload = widgets.FileUpload()
btn_run = widgets.Button(description='Classify')
btn_run.on_click(on_click_classify)
lbl_pred = widgets.Label()
out_pl = widgets.Output()

display(VBox([widgets.Label('Upload your nasi photo and press classify: (wait for a few seconds for the result)'), 
      btn_upload, btn_run, out_pl, lbl_pred]))
			
VBox(children=(Label(value='Upload your nasi photo and press classify: (wait for a few seconds for the result)…
