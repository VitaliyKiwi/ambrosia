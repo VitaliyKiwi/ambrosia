{
  "nbformat": 4,
  "nbformat_minor": 0,
  "metadata": {
    "colab": {
      "name": "create ambrosia_prediction.ipynb",
      "provenance": [],
      "collapsed_sections": [],
      "authorship_tag": "ABX9TyNyXDtnN8F186KDAsCwZK4F",
      "include_colab_link": true
    },
    "kernelspec": {
      "name": "python3",
      "display_name": "Python 3"
    },
    "widgets": {
      "application/vnd.jupyter.widget-state+json": {
        "2320109bf1a74b9897a767b9ab5793f2": {
          "model_module": "@jupyter-widgets/controls",
          "model_name": "VBoxModel",
          "state": {
            "_view_name": "VBoxView",
            "_dom_classes": [],
            "_model_name": "VBoxModel",
            "_view_module": "@jupyter-widgets/controls",
            "_model_module_version": "1.5.0",
            "_view_count": null,
            "_view_module_version": "1.5.0",
            "box_style": "",
            "layout": "IPY_MODEL_d2e3864e4ab54efd81745e4c27aa9fce",
            "_model_module": "@jupyter-widgets/controls",
            "children": [
              "IPY_MODEL_9f556b4eb1294a0a9af257ed9ccd4439",
              "IPY_MODEL_39c0ac1890144cdd9898d21fc121b6cf",
              "IPY_MODEL_05cde4744417453c8b0f2fca543bd3b0",
              "IPY_MODEL_2d58d32c34e84634a03fdf2d2b7788aa",
              "IPY_MODEL_66435e9a29cd4bff8ac9ca3937cf8db1"
            ]
          }
        },
        "d2e3864e4ab54efd81745e4c27aa9fce": {
          "model_module": "@jupyter-widgets/base",
          "model_name": "LayoutModel",
          "state": {
            "_view_name": "LayoutView",
            "grid_template_rows": null,
            "right": null,
            "justify_content": null,
            "_view_module": "@jupyter-widgets/base",
            "overflow": null,
            "_model_module_version": "1.2.0",
            "_view_count": null,
            "flex_flow": null,
            "width": null,
            "min_width": null,
            "border": null,
            "align_items": null,
            "bottom": null,
            "_model_module": "@jupyter-widgets/base",
            "top": null,
            "grid_column": null,
            "overflow_y": null,
            "overflow_x": null,
            "grid_auto_flow": null,
            "grid_area": null,
            "grid_template_columns": null,
            "flex": null,
            "_model_name": "LayoutModel",
            "justify_items": null,
            "grid_row": null,
            "max_height": null,
            "align_content": null,
            "visibility": null,
            "align_self": null,
            "height": null,
            "min_height": null,
            "padding": null,
            "grid_auto_rows": null,
            "grid_gap": null,
            "max_width": null,
            "order": null,
            "_view_module_version": "1.2.0",
            "grid_template_areas": null,
            "object_position": null,
            "object_fit": null,
            "grid_auto_columns": null,
            "margin": null,
            "display": null,
            "left": null
          }
        },
        "9f556b4eb1294a0a9af257ed9ccd4439": {
          "model_module": "@jupyter-widgets/controls",
          "model_name": "LabelModel",
          "state": {
            "_view_name": "LabelView",
            "style": "IPY_MODEL_80345e7f3f73440e8e8057df0b3d5e0d",
            "_dom_classes": [],
            "description": "",
            "_model_name": "LabelModel",
            "placeholder": "​",
            "_view_module": "@jupyter-widgets/controls",
            "_model_module_version": "1.5.0",
            "value": "Upload your nasi photo and press classify: (wait for a few seconds for the result)",
            "_view_count": null,
            "_view_module_version": "1.5.0",
            "description_tooltip": null,
            "_model_module": "@jupyter-widgets/controls",
            "layout": "IPY_MODEL_54b762cd5d874fe6a0643d90ee869095"
          }
        },
        "39c0ac1890144cdd9898d21fc121b6cf": {
          "model_module": "@jupyter-widgets/controls",
          "model_name": "FileUploadModel",
          "state": {
            "_view_name": "FileUploadView",
            "_counter": 2,
            "style": "IPY_MODEL_db2d20dcd99742c88316aa7543995aa9",
            "_dom_classes": [],
            "description": "Upload",
            "multiple": false,
            "_model_name": "FileUploadModel",
            "data": [
              null
            ],
            "button_style": "",
            "_view_module": "@jupyter-widgets/controls",
            "_model_module_version": "1.5.0",
            "accept": "",
            "_view_count": null,
            "disabled": false,
            "_view_module_version": "1.5.0",
            "error": "",
            "description_tooltip": null,
            "metadata": [
              {
                "name": "qqq.jpg",
                "type": "image/jpeg",
                "size": 103243,
                "lastModified": 1600213518994
              }
            ],
            "_model_module": "@jupyter-widgets/controls",
            "layout": "IPY_MODEL_29b501bb161d4c70ba70a60a5d3c8386",
            "icon": "upload"
          }
        },
        "05cde4744417453c8b0f2fca543bd3b0": {
          "model_module": "@jupyter-widgets/controls",
          "model_name": "ButtonModel",
          "state": {
            "_view_name": "ButtonView",
            "style": "IPY_MODEL_9e1be77bfb0544fca94c3be2fe5799c9",
            "_dom_classes": [],
            "description": "Classify",
            "_model_name": "ButtonModel",
            "button_style": "",
            "_view_module": "@jupyter-widgets/controls",
            "_model_module_version": "1.5.0",
            "tooltip": "",
            "_view_count": null,
            "disabled": false,
            "_view_module_version": "1.5.0",
            "layout": "IPY_MODEL_008aaa523a194850a36c086388f59fc7",
            "_model_module": "@jupyter-widgets/controls",
            "icon": ""
          }
        },
        "2d58d32c34e84634a03fdf2d2b7788aa": {
          "model_module": "@jupyter-widgets/output",
          "model_name": "OutputModel",
          "state": {
            "_view_name": "OutputView",
            "msg_id": "",
            "_dom_classes": [],
            "_model_name": "OutputModel",
            "outputs": [
              {
                "output_type": "display_data",
                "metadata": {
                  "tags": []
                },
                "image/png": "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\n",
                "text/plain": "<PIL.Image.Image image mode=RGB size=128x96 at 0x7F7A04219CC0>"
              }
            ],
            "_view_module": "@jupyter-widgets/output",
            "_model_module_version": "1.0.0",
            "_view_count": null,
            "_view_module_version": "1.0.0",
            "layout": "IPY_MODEL_31cde54bc03a4ffe8d937dc787f0e9a5",
            "_model_module": "@jupyter-widgets/output"
          }
        },
        "66435e9a29cd4bff8ac9ca3937cf8db1": {
          "model_module": "@jupyter-widgets/controls",
          "model_name": "LabelModel",
          "state": {
            "_view_name": "LabelView",
            "style": "IPY_MODEL_3214a38605554728b0a6b4a1c274b387",
            "_dom_classes": [],
            "description": "",
            "_model_name": "LabelModel",
            "placeholder": "​",
            "_view_module": "@jupyter-widgets/controls",
            "_model_module_version": "1.5.0",
            "value": "Prediction:  goldenrod; Probability: 0.9855",
            "_view_count": null,
            "_view_module_version": "1.5.0",
            "description_tooltip": null,
            "_model_module": "@jupyter-widgets/controls",
            "layout": "IPY_MODEL_bff53e1ee2ae45c2a3c1ad9f3e39f2fa"
          }
        },
        "80345e7f3f73440e8e8057df0b3d5e0d": {
          "model_module": "@jupyter-widgets/controls",
          "model_name": "DescriptionStyleModel",
          "state": {
            "_view_name": "StyleView",
            "_model_name": "DescriptionStyleModel",
            "description_width": "",
            "_view_module": "@jupyter-widgets/base",
            "_model_module_version": "1.5.0",
            "_view_count": null,
            "_view_module_version": "1.2.0",
            "_model_module": "@jupyter-widgets/controls"
          }
        },
        "54b762cd5d874fe6a0643d90ee869095": {
          "model_module": "@jupyter-widgets/base",
          "model_name": "LayoutModel",
          "state": {
            "_view_name": "LayoutView",
            "grid_template_rows": null,
            "right": null,
            "justify_content": null,
            "_view_module": "@jupyter-widgets/base",
            "overflow": null,
            "_model_module_version": "1.2.0",
            "_view_count": null,
            "flex_flow": null,
            "width": null,
            "min_width": null,
            "border": null,
            "align_items": null,
            "bottom": null,
            "_model_module": "@jupyter-widgets/base",
            "top": null,
            "grid_column": null,
            "overflow_y": null,
            "overflow_x": null,
            "grid_auto_flow": null,
            "grid_area": null,
            "grid_template_columns": null,
            "flex": null,
            "_model_name": "LayoutModel",
            "justify_items": null,
            "grid_row": null,
            "max_height": null,
            "align_content": null,
            "visibility": null,
            "align_self": null,
            "height": null,
            "min_height": null,
            "padding": null,
            "grid_auto_rows": null,
            "grid_gap": null,
            "max_width": null,
            "order": null,
            "_view_module_version": "1.2.0",
            "grid_template_areas": null,
            "object_position": null,
            "object_fit": null,
            "grid_auto_columns": null,
            "margin": null,
            "display": null,
            "left": null
          }
        },
        "db2d20dcd99742c88316aa7543995aa9": {
          "model_module": "@jupyter-widgets/controls",
          "model_name": "ButtonStyleModel",
          "state": {
            "_view_name": "StyleView",
            "_model_name": "ButtonStyleModel",
            "_view_module": "@jupyter-widgets/base",
            "_model_module_version": "1.5.0",
            "_view_count": null,
            "button_color": null,
            "font_weight": "",
            "_view_module_version": "1.2.0",
            "_model_module": "@jupyter-widgets/controls"
          }
        },
        "29b501bb161d4c70ba70a60a5d3c8386": {
          "model_module": "@jupyter-widgets/base",
          "model_name": "LayoutModel",
          "state": {
            "_view_name": "LayoutView",
            "grid_template_rows": null,
            "right": null,
            "justify_content": null,
            "_view_module": "@jupyter-widgets/base",
            "overflow": null,
            "_model_module_version": "1.2.0",
            "_view_count": null,
            "flex_flow": null,
            "width": null,
            "min_width": null,
            "border": null,
            "align_items": null,
            "bottom": null,
            "_model_module": "@jupyter-widgets/base",
            "top": null,
            "grid_column": null,
            "overflow_y": null,
            "overflow_x": null,
            "grid_auto_flow": null,
            "grid_area": null,
            "grid_template_columns": null,
            "flex": null,
            "_model_name": "LayoutModel",
            "justify_items": null,
            "grid_row": null,
            "max_height": null,
            "align_content": null,
            "visibility": null,
            "align_self": null,
            "height": null,
            "min_height": null,
            "padding": null,
            "grid_auto_rows": null,
            "grid_gap": null,
            "max_width": null,
            "order": null,
            "_view_module_version": "1.2.0",
            "grid_template_areas": null,
            "object_position": null,
            "object_fit": null,
            "grid_auto_columns": null,
            "margin": null,
            "display": null,
            "left": null
          }
        },
        "9e1be77bfb0544fca94c3be2fe5799c9": {
          "model_module": "@jupyter-widgets/controls",
          "model_name": "ButtonStyleModel",
          "state": {
            "_view_name": "StyleView",
            "_model_name": "ButtonStyleModel",
            "_view_module": "@jupyter-widgets/base",
            "_model_module_version": "1.5.0",
            "_view_count": null,
            "button_color": null,
            "font_weight": "",
            "_view_module_version": "1.2.0",
            "_model_module": "@jupyter-widgets/controls"
          }
        },
        "008aaa523a194850a36c086388f59fc7": {
          "model_module": "@jupyter-widgets/base",
          "model_name": "LayoutModel",
          "state": {
            "_view_name": "LayoutView",
            "grid_template_rows": null,
            "right": null,
            "justify_content": null,
            "_view_module": "@jupyter-widgets/base",
            "overflow": null,
            "_model_module_version": "1.2.0",
            "_view_count": null,
            "flex_flow": null,
            "width": null,
            "min_width": null,
            "border": null,
            "align_items": null,
            "bottom": null,
            "_model_module": "@jupyter-widgets/base",
            "top": null,
            "grid_column": null,
            "overflow_y": null,
            "overflow_x": null,
            "grid_auto_flow": null,
            "grid_area": null,
            "grid_template_columns": null,
            "flex": null,
            "_model_name": "LayoutModel",
            "justify_items": null,
            "grid_row": null,
            "max_height": null,
            "align_content": null,
            "visibility": null,
            "align_self": null,
            "height": null,
            "min_height": null,
            "padding": null,
            "grid_auto_rows": null,
            "grid_gap": null,
            "max_width": null,
            "order": null,
            "_view_module_version": "1.2.0",
            "grid_template_areas": null,
            "object_position": null,
            "object_fit": null,
            "grid_auto_columns": null,
            "margin": null,
            "display": null,
            "left": null
          }
        },
        "3214a38605554728b0a6b4a1c274b387": {
          "model_module": "@jupyter-widgets/controls",
          "model_name": "DescriptionStyleModel",
          "state": {
            "_view_name": "StyleView",
            "_model_name": "DescriptionStyleModel",
            "description_width": "",
            "_view_module": "@jupyter-widgets/base",
            "_model_module_version": "1.5.0",
            "_view_count": null,
            "_view_module_version": "1.2.0",
            "_model_module": "@jupyter-widgets/controls"
          }
        },
        "bff53e1ee2ae45c2a3c1ad9f3e39f2fa": {
          "model_module": "@jupyter-widgets/base",
          "model_name": "LayoutModel",
          "state": {
            "_view_name": "LayoutView",
            "grid_template_rows": null,
            "right": null,
            "justify_content": null,
            "_view_module": "@jupyter-widgets/base",
            "overflow": null,
            "_model_module_version": "1.2.0",
            "_view_count": null,
            "flex_flow": null,
            "width": null,
            "min_width": null,
            "border": null,
            "align_items": null,
            "bottom": null,
            "_model_module": "@jupyter-widgets/base",
            "top": null,
            "grid_column": null,
            "overflow_y": null,
            "overflow_x": null,
            "grid_auto_flow": null,
            "grid_area": null,
            "grid_template_columns": null,
            "flex": null,
            "_model_name": "LayoutModel",
            "justify_items": null,
            "grid_row": null,
            "max_height": null,
            "align_content": null,
            "visibility": null,
            "align_self": null,
            "height": null,
            "min_height": null,
            "padding": null,
            "grid_auto_rows": null,
            "grid_gap": null,
            "max_width": null,
            "order": null,
            "_view_module_version": "1.2.0",
            "grid_template_areas": null,
            "object_position": null,
            "object_fit": null,
            "grid_auto_columns": null,
            "margin": null,
            "display": null,
            "left": null
          }
        },
        "31cde54bc03a4ffe8d937dc787f0e9a5": {
          "model_module": "@jupyter-widgets/base",
          "model_name": "LayoutModel",
          "state": {
            "_view_name": "LayoutView",
            "grid_template_rows": null,
            "right": null,
            "justify_content": null,
            "_view_module": "@jupyter-widgets/base",
            "overflow": null,
            "_model_module_version": "1.2.0",
            "_view_count": null,
            "flex_flow": null,
            "width": null,
            "min_width": null,
            "border": null,
            "align_items": null,
            "bottom": null,
            "_model_module": "@jupyter-widgets/base",
            "top": null,
            "grid_column": null,
            "overflow_y": null,
            "overflow_x": null,
            "grid_auto_flow": null,
            "grid_area": null,
            "grid_template_columns": null,
            "flex": null,
            "_model_name": "LayoutModel",
            "justify_items": null,
            "grid_row": null,
            "max_height": null,
            "align_content": null,
            "visibility": null,
            "align_self": null,
            "height": null,
            "min_height": null,
            "padding": null,
            "grid_auto_rows": null,
            "grid_gap": null,
            "max_width": null,
            "order": null,
            "_view_module_version": "1.2.0",
            "grid_template_areas": null,
            "object_position": null,
            "object_fit": null,
            "grid_auto_columns": null,
            "margin": null,
            "display": null,
            "left": null
          }
        }
      }
    }
  },
  "cells": [
    {
      "cell_type": "markdown",
      "metadata": {
        "id": "view-in-github",
        "colab_type": "text"
      },
      "source": [
        "<a href=\"https://colab.research.google.com/github/VitaliyKiwi/ambrosia/blob/master/create_ambrosia_prediction.ipynb\" target=\"_parent\"><img src=\"https://colab.research.google.com/assets/colab-badge.svg\" alt=\"Open In Colab\"/></a>"
      ]
    },
    {
      "cell_type": "code",
      "metadata": {
        "id": "VqjrVbSABcnn",
        "colab_type": "code",
        "colab": {}
      },
      "source": [
        "#from utils import *\n",
        "import fastai\n",
        "from fastai.vision.all import *\n",
        "from fastai.vision.widgets import *"
      ],
      "execution_count": null,
      "outputs": []
    },
    {
      "cell_type": "code",
      "metadata": {
        "id": "CUV-D0IgCYs5",
        "colab_type": "code",
        "colab": {}
      },
      "source": [
        "model_path = Path()\n",
        "#model_path.ls(file_exts='.pkl')"
      ],
      "execution_count": null,
      "outputs": []
    },
    {
      "cell_type": "code",
      "metadata": {
        "id": "iwB58ngfCcj5",
        "colab_type": "code",
        "colab": {}
      },
      "source": [
        "learn_inf = load_learner(model_path/'/content/drive/My Drive/export.pkl')"
      ],
      "execution_count": null,
      "outputs": []
    },
    {
      "cell_type": "code",
      "metadata": {
        "id": "GACsYXu5CvCx",
        "colab_type": "code",
        "colab": {}
      },
      "source": [
        "def on_click_classify(change):\n",
        "    lbl_pred.value = 'Wait ah, on the way on the way...'\n",
        "    img = PILImage.create(btn_upload.data[-1])\n",
        "    out_pl.clear_output()\n",
        "    with out_pl: display(img.to_thumb(128,128))\n",
        "    pred,pred_idx,probs = learn_inf.predict(img)\n",
        "    lbl_pred.value = f'Prediction: {pred}; Probability: {probs[pred_idx]:.04f}'\n",
        "\n",
        "btn_upload = widgets.FileUpload()\n",
        "btn_run = widgets.Button(description='Classify')\n",
        "btn_run.on_click(on_click_classify)\n",
        "lbl_pred = widgets.Label()\n",
        "out_pl = widgets.Output()"
      ],
      "execution_count": null,
      "outputs": []
    },
    {
      "cell_type": "code",
      "metadata": {
        "id": "LLdE-J1RCwJ5",
        "colab_type": "code",
        "colab": {
          "base_uri": "https://localhost:8080/",
          "height": 241,
          "referenced_widgets": [
            "2320109bf1a74b9897a767b9ab5793f2",
            "d2e3864e4ab54efd81745e4c27aa9fce",
            "9f556b4eb1294a0a9af257ed9ccd4439",
            "39c0ac1890144cdd9898d21fc121b6cf",
            "05cde4744417453c8b0f2fca543bd3b0",
            "2d58d32c34e84634a03fdf2d2b7788aa",
            "66435e9a29cd4bff8ac9ca3937cf8db1",
            "80345e7f3f73440e8e8057df0b3d5e0d",
            "54b762cd5d874fe6a0643d90ee869095",
            "db2d20dcd99742c88316aa7543995aa9",
            "29b501bb161d4c70ba70a60a5d3c8386",
            "9e1be77bfb0544fca94c3be2fe5799c9",
            "008aaa523a194850a36c086388f59fc7",
            "3214a38605554728b0a6b4a1c274b387",
            "bff53e1ee2ae45c2a3c1ad9f3e39f2fa",
            "31cde54bc03a4ffe8d937dc787f0e9a5"
          ]
        },
        "outputId": "f9319435-bd81-4c7a-c8c7-a08bcda95769"
      },
      "source": [
        "display(VBox([widgets.Label('Upload your nasi photo and press classify: (wait for a few seconds for the result)'), \n",
        "      btn_upload, btn_run, out_pl, lbl_pred]))"
      ],
      "execution_count": null,
      "outputs": [
        {
          "output_type": "display_data",
          "data": {
            "application/vnd.jupyter.widget-view+json": {
              "model_id": "2320109bf1a74b9897a767b9ab5793f2",
              "version_minor": 0,
              "version_major": 2
            },
            "text/plain": [
              "VBox(children=(Label(value='Upload your nasi photo and press classify: (wait for a few seconds for the result)…"
            ]
          },
          "metadata": {
            "tags": []
          }
        },
        {
          "output_type": "display_data",
          "data": {
            "text/html": [
              ""
            ],
            "text/plain": [
              "<IPython.core.display.HTML object>"
            ]
          },
          "metadata": {
            "tags": []
          }
        },
        {
          "output_type": "display_data",
          "data": {
            "text/html": [
              ""
            ],
            "text/plain": [
              "<IPython.core.display.HTML object>"
            ]
          },
          "metadata": {
            "tags": []
          }
        }
      ]
    },
    {
      "cell_type": "code",
      "metadata": {
        "id": "2tk0hpVnCzh4",
        "colab_type": "code",
        "colab": {}
      },
      "source": [
        ""
      ],
      "execution_count": null,
      "outputs": []
    }
  ]
}